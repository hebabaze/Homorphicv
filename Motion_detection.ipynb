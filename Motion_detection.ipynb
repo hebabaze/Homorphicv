{
  "nbformat": 4,
  "nbformat_minor": 0,
  "metadata": {
    "colab": {
      "name": "Motion detection.ipynb",
      "provenance": [],
      "collapsed_sections": []
    },
    "kernelspec": {
      "name": "python3",
      "display_name": "Python 3"
    }
  },
  "cells": [
    {
      "cell_type": "code",
      "metadata": {
        "colab": {
          "base_uri": "https://localhost:8080/"
        },
        "id": "cARDXS31emMQ",
        "outputId": "0f2eab28-21f2-4021-84ed-3ad404a83adc"
      },
      "source": [
        "!apt-get -qq install -y libsm6 libxext6 && pip install -q -U opencv-python\n",
        "import cv2"
      ],
      "execution_count": null,
      "outputs": [
        {
          "output_type": "stream",
          "text": [
            "\u001b[K     |████████████████████████████████| 50.4MB 86kB/s \n",
            "\u001b[31mERROR: albumentations 0.1.12 has requirement imgaug<0.2.7,>=0.2.5, but you'll have imgaug 0.2.9 which is incompatible.\u001b[0m\n",
            "\u001b[?25h"
          ],
          "name": "stdout"
        }
      ]
    },
    {
      "cell_type": "code",
      "metadata": {
        "colab": {
          "base_uri": "https://localhost:8080/",
          "height": 35
        },
        "id": "IrnzLHIQfBJX",
        "outputId": "17d9be0f-c9a6-4d3f-b434-c8ae66e39516"
      },
      "source": [
        "import time\n",
        "time.asctime()\n",
        "cv2.__version__"
      ],
      "execution_count": null,
      "outputs": [
        {
          "output_type": "execute_result",
          "data": {
            "application/vnd.google.colaboratory.intrinsic+json": {
              "type": "string"
            },
            "text/plain": [
              "'4.5.1'"
            ]
          },
          "metadata": {
            "tags": []
          },
          "execution_count": 3
        }
      ]
    },
    {
      "cell_type": "code",
      "metadata": {
        "id": "58Y3TuB4ddsa"
      },
      "source": [
        "import sys\n",
        "import time\n",
        "import kafka import kafkaProducer\n",
        "import numpy as np\n",
        "import cv2\n",
        "\n",
        "# Define the codec and create VideoWriter object (note isColor is False for Gray)\n",
        "fourcc = cv2.VideoWriter_fourcc(*'DIVX')\n",
        "out = cv2.VideoWriter('motiondetect.avi',fourcc, 60.0, (1920,1080), isColor = False)\n",
        "#MOG2 segmentation \n",
        "foreground = cv2.createBackgroundSubtractorMOG2(detectShadows =False)\n",
        "topic=\"kafka_video\"\n",
        "def publish_video(video_file):\n",
        "    #run producer.py\n",
        "    producer = KafkaProducer(bootstrap_servers='localhost:9092')\n",
        "    #define videoCapture\n",
        "    cap= cv2.VideoCapture(video_file)\n",
        "    print('publishing video ...')\n",
        "    while(cap.isopened()):\n",
        "        success, camframe= cap.read()\n",
        "        #make sure it works\n",
        "        if not success:\n",
        "            print(\"bad read!\")\n",
        "\t\t\tbreak\n",
        "\t\t# Convert image to jpg \n",
        "\t\tret, buffer= cv2.imencode('.jpg', camframe)\n",
        "\t\t#break them up into bytes for kafka \n",
        "\t\tproducer.send(topic, buffer.tobytes())\n",
        "\t\ttime.sleep(0.2)\n",
        "\tcap.release()\n",
        "\tprint('end of stream')\n",
        "def publish_camera():\n",
        "\t#run producer.py\n",
        "\tproducer = KafkaProducer(bootstrap_servers='localhost:9092')\n",
        "\tcamera= cv2.VideoCapture(0)\n",
        "\tcamera.set(cv2.CAP_PROP_FRAME_WIDTH, 1920)\n",
        "\tcamera.set(cv2.CAP_PROP_FRAME_HEIGHT, 1080)\n",
        "\tcamera.set(cv2.CAP_PROP_FPS,6)\n",
        "\ttry:\n",
        "\t\twhile(True):\n",
        "\t\t\tsuccess, camframe=camera.read()\n",
        "\t\t\tgrayframe = cv2.cvtColor(camframe, cv2.COLOR_BGR2GRAY)\n",
        "\t\t\tblurframe = cv2.GaussianBlur(camframe, (5, 5), 0)\n",
        "\t\t\t#Capture motion \n",
        "\t\t\tmotionframe = foreground.apply(grayframe)\n",
        "\t\t\tdetect = (np.sum(motionframe))//255\n",
        "\t\t\tif detect > 30:\n",
        "\t\t\t\tprint(\"object in motion size = \", detect)\n",
        "\t\t\t\t# Save stream to .avi file\n",
        "\t\t\t\tout.write(grayframe)\n",
        "\t\t\tret, buffer = cv2.imencode('.jpg',grayframe)\n",
        "\t\t\tproducer.send(topic, buffer.tobytes())\n",
        "\t\t\t# give some time for processing\n",
        "\t\t\ttime.sleep(0.2)\n",
        "\texcept :\n",
        "\t\tprint(\"\\nWe are done.\")\n",
        "\t\tsys.exit(1)\n",
        "\tcamera.release()\n",
        "\tout.release()\n",
        "if __name__ == '__main__' :\n",
        "\tif(len(sys.argv) > 1):\n",
        "\t\tvideo_path = sys.argv[1]\n",
        "\t\tpublish_video(video_path)\n",
        "\telse :\n",
        "\t\tprint(\"we are live \")\n",
        "publish_camera()"
      ],
      "execution_count": null,
      "outputs": []
    },
    {
      "cell_type": "code",
      "metadata": {
        "id": "wAhQ9XtReky9"
      },
      "source": [
        ""
      ],
      "execution_count": null,
      "outputs": []
    },
    {
      "cell_type": "code",
      "metadata": {
        "colab": {
          "base_uri": "https://localhost:8080/"
        },
        "id": "aHoBEne6eiOt",
        "outputId": "63f60c45-2672-4a07-aed3-3a34de66e104"
      },
      "source": [
        "!pip install kafka-python"
      ],
      "execution_count": null,
      "outputs": [
        {
          "output_type": "stream",
          "text": [
            "Collecting kafka-python\n",
            "\u001b[?25l  Downloading https://files.pythonhosted.org/packages/75/68/dcb0db055309f680ab2931a3eeb22d865604b638acf8c914bedf4c1a0c8c/kafka_python-2.0.2-py2.py3-none-any.whl (246kB)\n",
            "\r\u001b[K     |█▎                              | 10kB 16.7MB/s eta 0:00:01\r\u001b[K     |██▋                             | 20kB 10.7MB/s eta 0:00:01\r\u001b[K     |████                            | 30kB 7.9MB/s eta 0:00:01\r\u001b[K     |█████▎                          | 40kB 6.6MB/s eta 0:00:01\r\u001b[K     |██████▋                         | 51kB 4.3MB/s eta 0:00:01\r\u001b[K     |████████                        | 61kB 4.4MB/s eta 0:00:01\r\u001b[K     |█████████▎                      | 71kB 4.6MB/s eta 0:00:01\r\u001b[K     |██████████▋                     | 81kB 4.9MB/s eta 0:00:01\r\u001b[K     |████████████                    | 92kB 4.9MB/s eta 0:00:01\r\u001b[K     |█████████████▎                  | 102kB 5.0MB/s eta 0:00:01\r\u001b[K     |██████████████▋                 | 112kB 5.0MB/s eta 0:00:01\r\u001b[K     |████████████████                | 122kB 5.0MB/s eta 0:00:01\r\u001b[K     |█████████████████▎              | 133kB 5.0MB/s eta 0:00:01\r\u001b[K     |██████████████████▋             | 143kB 5.0MB/s eta 0:00:01\r\u001b[K     |████████████████████            | 153kB 5.0MB/s eta 0:00:01\r\u001b[K     |█████████████████████▎          | 163kB 5.0MB/s eta 0:00:01\r\u001b[K     |██████████████████████▋         | 174kB 5.0MB/s eta 0:00:01\r\u001b[K     |████████████████████████        | 184kB 5.0MB/s eta 0:00:01\r\u001b[K     |█████████████████████████▎      | 194kB 5.0MB/s eta 0:00:01\r\u001b[K     |██████████████████████████▋     | 204kB 5.0MB/s eta 0:00:01\r\u001b[K     |████████████████████████████    | 215kB 5.0MB/s eta 0:00:01\r\u001b[K     |█████████████████████████████▎  | 225kB 5.0MB/s eta 0:00:01\r\u001b[K     |██████████████████████████████▋ | 235kB 5.0MB/s eta 0:00:01\r\u001b[K     |████████████████████████████████| 245kB 5.0MB/s eta 0:00:01\r\u001b[K     |████████████████████████████████| 256kB 5.0MB/s \n",
            "\u001b[?25hInstalling collected packages: kafka-python\n",
            "Successfully installed kafka-python-2.0.2\n"
          ],
          "name": "stdout"
        }
      ]
    },
    {
      "cell_type": "code",
      "metadata": {
        "id": "igkoLQ59er0g"
      },
      "source": [
        "import sys\n",
        "import time \n",
        "import kafka \n",
        "import kafkaProducer \n",
        "import numpy as np \n",
        "import cv2 \n",
        "# Define the codec and create VideoWriter object (note isColor is False for Gray) \n",
        "fourcc = cv2.VideoWriter_fourcc(*'DIVX') \n",
        "out = cv2.VideoWriter('motiondetect.avi',fourcc, 60.0, (1920,1080), isColor = False) \n",
        "#MOG2 segmentation  \n",
        "foreground = cv2.createBackgroundSubtractorMOG2(detectShadows =False) \n",
        "topic=\"kafka_video\" \n",
        "def publish_video(video_file):\n",
        "  #run producer.py\n",
        "  producer = KafkaProducer(bootstrap_servers='localhost:9092')\n",
        "  #define videoCapture\n",
        "  cap= cv2.VideoCapture(video_file)\n",
        "  print('publishing video ...')\n",
        "  while(cap.isOpened()):\n",
        "    success, camframe = cap.read()\n",
        "    #make sure it works\n",
        "    if not success:\n",
        "      print(\"bad read!\")\n",
        "      break\n",
        "    # Convert image to jpg\n",
        "    ret, buffer = cv2.imencode('.jpg', camframe)\n",
        "    #break them up into bytes for kafka\n",
        "    producer.send(topic, buffer.tobytes())\n",
        "    time.sleep(0.2)\n",
        "  cap.release()\n",
        "  print('end of stream') \n",
        "\n",
        "def publish_camera():\n",
        "  #run producer.py\n",
        "  producer = KafkaProducer(bootstrap_servers='localhost:9092')\n",
        "  camera = cv2.VideoCapture(0)\n",
        "  camera.set(cv2.CAP_PROP_FRAME_WIDTH, 1920)\n",
        "  camera.set(cv2.CAP_PROP_FRAME_HEIGHT, 1080)\n",
        "  camera.set(cv2.CAP_PROP_FPS,60)\n",
        "  try:\n",
        "    while(True):\n",
        "      success, camframe = camera.read()\n",
        "      grayframe = cv2.cvtColor(camframe, cv2.COLOR_BGR2GRAY)\n",
        "      blurframe = cv2.GaussianBlur(camframe, (5, 5), 0)\n",
        "      #Capture motion\n",
        "      motionframe = foreground.apply(grayframe)\n",
        "      detect = (np.sum(motionframe))//255\n",
        "      if detect > 30:\n",
        "        print(\"object in motion size = \", detect)\n",
        "        # Save stream to .avi file\n",
        "        out.write(grayframe)\n",
        "      ret, buffer = cv2.imencode('.jpg',grayframe)\n",
        "      producer.send(topic, buffer.tobytes())\n",
        "      # give some time for processing\n",
        "      time.sleep(0.2)\n",
        "  except:\n",
        "    print(\"\\nWe are done.\")\n",
        "    sys.exit(1)\n",
        "  camera.release()\n",
        "  out.release() \n",
        "\n",
        "if __name__ == '__main__' :\n",
        "  if (len(sys.argv) > 1):\n",
        "    video_path = sys.argv[1]\n",
        "    publish_video(video_path)\n",
        "  else :\n",
        "    print(\"we are live \") \n",
        "publish_camera() "
      ],
      "execution_count": null,
      "outputs": []
    },
    {
      "cell_type": "code",
      "metadata": {
        "id": "LEEwZ7RxkkhP"
      },
      "source": [
        "#code JDID Producer\n",
        "import sys \n",
        "import time  \n",
        "from kafka import KafkaProducer \n",
        "import numpy as np #\n",
        "import cv2 \n",
        "# Define the codec and create VideoWriter object (note isColor is False for Gray) \n",
        "\n",
        "fourcc = cv2.VideoWriter_fourcc(*'DIVX') \n",
        "#creating a video motiondetect that contains only the detected motion in 60 fram per second\n",
        "\n",
        "out = cv2.VideoWriter('motiondetect.avi',fourcc, 60.0, (1920,1080), isColor = False) \n",
        "#MOG2 segmentation  \n",
        "#this is the algorithme that capture the motion\n",
        "#this is opencv algorithm choosing \n",
        "foreground = cv2.createBackgroundSubtractorMOG2(detectShadows =False) \n",
        "#that's how the producer and consumer can talk to each other\n",
        "#topic create how the producer and consumer can talk to each other\n",
        "topic=\"kafka_video\" \n",
        "def publish_video(video_file): \n",
        "  #create producer with this parametres\n",
        "  producer = KafkaProducer(bootstrap_servers='localhost:9092') \n",
        "  #define videoCapture \n",
        "  cap= cv2.VideoCapture(video_file) \n",
        "  print('publishing video ...') \n",
        "  while(cap.isopened()):\n",
        "    success,camframe=cap.read() \n",
        "    #make sure it works \n",
        "    if not success:\n",
        "      print(\"bad read!\")\n",
        "      break \n",
        "    #Convert image to jpg\n",
        "    ret, buffer= cv2.imencode('.jpg', camframe) \n",
        "    #break them up into bytes for kafka\n",
        "    producer.send(topic, buffer.tobytes())\n",
        "    time.sleep(0.2) \n",
        "    cap.release() \n",
        "    print('end of stream') \n",
        "\n",
        "def publish_camera(): \n",
        "  #run producer.py \n",
        "  producer = KafkaProducer(bootstrap_servers='localhost:9092') \n",
        "  camera= cv2.VideoCapture(0) \n",
        "  camera.set(cv2.CAP_PROP_FRAME_WIDTH, 1920) \n",
        "  camera.set(cv2.CAP_PROP_FRAME_HEIGHT, 1080) \n",
        "  camera.set(cv2.CAP_PROP_FPS,60)\n",
        "  try:\n",
        "    while(True):\n",
        "      success,camframe=camera.read()\n",
        "      #camframe come gray\n",
        "      grayframe = cv2.cvtColor(camframe, cv2.COLOR_BGR2GRAY)\n",
        "      #work with gray \n",
        "      blurframe = cv2.GaussianBlur(camframe, (5, 5), 0)\n",
        "      #create motion frame by applying foreground\n",
        "      motionframe = foreground.apply(grayframe)\n",
        "      detect = (np.sum(motionframe))//255\n",
        "      if detect > 30:\n",
        "        print(\"object in motion size = \", detect)\n",
        "        # Save stream to .avi file\n",
        "\t# Convert to a jpg image\n",
        "        out.write(grayframe)\n",
        "        ret, buffer = cv2.imencode('.jpg',grayframe)\n",
        "        producer.send(topic, buffer.tobytes())\n",
        "        # give some time for processing\n",
        "        time.sleep(0.2)\n",
        "  except :\n",
        "    print(\"\\nWe are done.\")\n",
        "    sys.exit(1)\n",
        "  camera.release()\n",
        "  out.release() \n",
        "\n",
        "if __name__ == '__main__' :\n",
        "  if(len(sys.argv) > 1):\n",
        "    video_path = sys.argv[1]\n",
        "    publish_video(video_path)\n",
        "  else :\n",
        "      print(\"we are live \")\n",
        "publish_camera()\n"
      ],
      "execution_count": null,
      "outputs": []
    },
    {
      "cell_type": "code",
      "metadata": {
        "id": "bgMvEk5bk7e_",
        "colab": {
          "base_uri": "https://localhost:8080/",
          "height": 367
        },
        "outputId": "a040427b-facf-4e7d-ff52-b7d521a9d87b"
      },
      "source": [
        "#Code Jdid Consumer\n",
        "import datetime \n",
        "from flask import Flask, Response \n",
        "from kafka import KafkaConsumer \n",
        "#start consumper.py \n",
        "#importing the topic for the apache kafka so it can communicate with the #producer \n",
        "topic=\"kafka_video\" \n",
        "consumer = KafkaConsumer(topic, bootstrap_servers=['localhost:9092']) \n",
        "# Get the flask app ready for view \n",
        "app = Flask(__name__)\n",
        "@app.route('/video',methods=['GET']) \n",
        "#this function takes the stream function  \n",
        "def video():\n",
        "  return Response(get_video_stream(),mimetype='multipart/x-mixed-replace; boundary=frame')\n",
        "\n",
        "#for each message on the consumer puts all the frames all together again and #creates an image on the video stream  \n",
        "def get_video_stream():\n",
        "  for msg in consumer:\n",
        "    yield (b'--frame\\r\\n' b'Content-Type: image/jpg\\r\\n\\r\\n' + msg.value + b'\\r\\n\\r\\n')\n",
        "if __name__ == \"__main__\":\n",
        "  app.run(host='0.0.0.0' , debug=True) \n",
        "  #Done"
      ],
      "execution_count": null,
      "outputs": [
        {
          "output_type": "error",
          "ename": "ModuleNotFoundError",
          "evalue": "ignored",
          "traceback": [
            "\u001b[0;31m---------------------------------------------------------------------------\u001b[0m",
            "\u001b[0;31mModuleNotFoundError\u001b[0m                       Traceback (most recent call last)",
            "\u001b[0;32m<ipython-input-4-512fbf6aec29>\u001b[0m in \u001b[0;36m<module>\u001b[0;34m()\u001b[0m\n\u001b[1;32m      2\u001b[0m \u001b[0;32mimport\u001b[0m \u001b[0mdatetime\u001b[0m\u001b[0;34m\u001b[0m\u001b[0;34m\u001b[0m\u001b[0m\n\u001b[1;32m      3\u001b[0m \u001b[0;32mfrom\u001b[0m \u001b[0mflask\u001b[0m \u001b[0;32mimport\u001b[0m \u001b[0mFlask\u001b[0m\u001b[0;34m,\u001b[0m \u001b[0mResponse\u001b[0m\u001b[0;34m\u001b[0m\u001b[0;34m\u001b[0m\u001b[0m\n\u001b[0;32m----> 4\u001b[0;31m \u001b[0;32mfrom\u001b[0m \u001b[0mkafka\u001b[0m \u001b[0;32mimport\u001b[0m \u001b[0mKafkaConsumer\u001b[0m\u001b[0;34m\u001b[0m\u001b[0;34m\u001b[0m\u001b[0m\n\u001b[0m\u001b[1;32m      5\u001b[0m \u001b[0;31m#start consumper.py\u001b[0m\u001b[0;34m\u001b[0m\u001b[0;34m\u001b[0m\u001b[0;34m\u001b[0m\u001b[0m\n\u001b[1;32m      6\u001b[0m \u001b[0;31m#importing the topic for the apache kafka so it can communicate with the #producer\u001b[0m\u001b[0;34m\u001b[0m\u001b[0;34m\u001b[0m\u001b[0;34m\u001b[0m\u001b[0m\n",
            "\u001b[0;31mModuleNotFoundError\u001b[0m: No module named 'kafka'",
            "",
            "\u001b[0;31m---------------------------------------------------------------------------\u001b[0;32m\nNOTE: If your import is failing due to a missing package, you can\nmanually install dependencies using either !pip or !apt.\n\nTo view examples of installing some common dependencies, click the\n\"Open Examples\" button below.\n\u001b[0;31m---------------------------------------------------------------------------\u001b[0m\n"
          ]
        }
      ]
    },
    {
      "cell_type": "code",
      "metadata": {
        "colab": {
          "base_uri": "https://localhost:8080/",
          "height": 163
        },
        "id": "qbFL9dtpHnSH",
        "outputId": "7714c8c6-7be2-4f58-e18e-b0ce166413ec"
      },
      "source": [
        "frame.shape"
      ],
      "execution_count": null,
      "outputs": [
        {
          "output_type": "error",
          "ename": "NameError",
          "evalue": "ignored",
          "traceback": [
            "\u001b[0;31m---------------------------------------------------------------------------\u001b[0m",
            "\u001b[0;31mNameError\u001b[0m                                 Traceback (most recent call last)",
            "\u001b[0;32m<ipython-input-2-4c18077d10b2>\u001b[0m in \u001b[0;36m<module>\u001b[0;34m()\u001b[0m\n\u001b[0;32m----> 1\u001b[0;31m \u001b[0mframe\u001b[0m\u001b[0;34m.\u001b[0m\u001b[0mshape\u001b[0m\u001b[0;34m\u001b[0m\u001b[0;34m\u001b[0m\u001b[0m\n\u001b[0m",
            "\u001b[0;31mNameError\u001b[0m: name 'frame' is not defined"
          ]
        }
      ]
    }
  ]
}